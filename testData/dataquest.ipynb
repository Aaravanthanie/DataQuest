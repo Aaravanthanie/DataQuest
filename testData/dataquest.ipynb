{
 "cells": [
  {
   "cell_type": "code",
   "execution_count": 4,
   "metadata": {},
   "outputs": [],
   "source": [
    "import pandas as pd\n",
    "from sklearn.metrics import accuracy_score\n",
    "import xgboost as xgb\n",
    "from sklearn.model_selection import train_test_split"
   ]
  },
  {
   "cell_type": "code",
   "execution_count": 5,
   "metadata": {},
   "outputs": [],
   "source": [
    "data = pd.read_csv('train_data.csv')\n",
    "#break train data into train and validation\n",
    "train_data, test_data = train_test_split(data, test_size=0.25, random_state=123) "
   ]
  },
  {
   "cell_type": "code",
   "execution_count": 6,
   "metadata": {},
   "outputs": [],
   "source": [
    "# Remove unnecessary columns\n",
    "train_data = train_data.drop(['BookingID',], axis=1)\n",
    "test_data = test_data.drop(['BookingID',], axis=1)"
   ]
  },
  {
   "cell_type": "code",
   "execution_count": 7,
   "metadata": {},
   "outputs": [],
   "source": [
    "# Convert categorical features to numerical values using one-hot encoding\n",
    "train_data = pd.get_dummies(train_data, columns=['MealPlan','RoomType', 'MarketSegment'])\n",
    "test_data = pd.get_dummies(test_data, columns=['MealPlan','RoomType', 'MarketSegment'])\n",
    "\n",
    "#meal plan 3 is not present in test data so we drop it from train data\n",
    "train_data = train_data.drop(['MealPlan_Meal Plan 3'], axis=1)\n",
    "test_data = test_data.drop(['MealPlan_Meal Plan 3'], axis=1)"
   ]
  },
  {
   "cell_type": "code",
   "execution_count": 8,
   "metadata": {},
   "outputs": [
    {
     "name": "stdout",
     "output_type": "stream",
     "text": [
      "Index(['LeadTime', 'ArrivalYear', 'ArrivalMonth', 'ArrivalDate',\n",
      "       'NumWeekendNights', 'NumWeekNights', 'Parking', 'NumAdults',\n",
      "       'NumChildren', 'RepeatedGuest', 'NumPrevCancellations',\n",
      "       'NumPreviousNonCancelled', 'AvgRoomPrice', 'SpecialRequests',\n",
      "       'BookingStatus', 'MealPlan_Meal Plan 1', 'MealPlan_Meal Plan 2',\n",
      "       'MealPlan_Not Selected', 'RoomType_Room_Type 1', 'RoomType_Room_Type 2',\n",
      "       'RoomType_Room_Type 3', 'RoomType_Room_Type 4', 'RoomType_Room_Type 5',\n",
      "       'RoomType_Room_Type 6', 'RoomType_Room_Type 7',\n",
      "       'MarketSegment_Aviation', 'MarketSegment_Complementary',\n",
      "       'MarketSegment_Corporate', 'MarketSegment_Offline',\n",
      "       'MarketSegment_Online'],\n",
      "      dtype='object')\n"
     ]
    }
   ],
   "source": [
    "print(train_data.columns)"
   ]
  },
  {
   "cell_type": "code",
   "execution_count": 9,
   "metadata": {},
   "outputs": [],
   "source": [
    "from sklearn.preprocessing import LabelEncoder\n",
    "\n",
    "# Remove rows with missing values\n",
    "train_data = train_data.dropna()\n",
    "test_data = test_data.dropna()\n",
    "\n",
    "# Split data into features and target variable\n",
    "y_train = train_data['BookingStatus']\n",
    "y_test = test_data['BookingStatus']\n",
    "\n",
    "X_train = train_data.drop(['BookingStatus'], axis=1) \n",
    "X_test = test_data.drop(['BookingStatus'], axis=1)\n",
    "\n",
    "# Convert string labels to numeric labels\n",
    "le = LabelEncoder()\n",
    "y_train = le.fit_transform(y_train)\n",
    "y_test = le.transform(y_test)\n",
    "\n"
   ]
  },
  {
   "cell_type": "code",
   "execution_count": 10,
   "metadata": {},
   "outputs": [
    {
     "name": "stdout",
     "output_type": "stream",
     "text": [
      "Accuracy: 0.8934527911784976\n"
     ]
    }
   ],
   "source": [
    "# Create the XGBoost classifier\n",
    "xgb_model = xgb.XGBClassifier()\n",
    "\n",
    "# Train the model on the training data\n",
    "xgb_model.fit(X_train, y_train)\n",
    "\n",
    "# Make predictions on the test data\n",
    "y_pred = xgb_model.predict(X_test)\n",
    "\n",
    "# Evaluate the model's accuracy\n",
    "accuracy = accuracy_score(y_test, y_pred)\n",
    "print(\"Accuracy:\", accuracy)\n"
   ]
  },
  {
   "cell_type": "code",
   "execution_count": 11,
   "metadata": {},
   "outputs": [],
   "source": [
    "import pandas as pd\n",
    "check_data = pd.read_csv('check_data.csv')\n",
    "\n",
    "empty_booking_status = check_data[check_data['BookingStatus'].isnull()]\n",
    "\n",
    "# Remove unnecessary columns, including BookingStatus\n",
    "input_data = empty_booking_status.drop(['BookingID'], axis=1)\n",
    "\n",
    "# Convert categorical features to numerical values using one-hot encoding\n",
    "input_data = pd.get_dummies(input_data, columns=['MealPlan', 'RoomType', 'MarketSegment'])\n",
    "\n",
    "# Get the feature names used in the training data\n",
    "train_features = train_data\n",
    "\n",
    "# Check that the feature names in the input data match the feature names in the training data\n",
    "if set(input_data.columns) != set(train_features):\n",
    "    raise ValueError(\"Feature names in input data do not match feature names in training data\")"
   ]
  },
  {
   "cell_type": "code",
   "execution_count": 12,
   "metadata": {},
   "outputs": [
    {
     "name": "stdout",
     "output_type": "stream",
     "text": [
      "Input data columns: {'MealPlan_Meal Plan 2', 'RoomType_Room_Type 5', 'MealPlan_Meal Plan 1', 'MarketSegment_Offline', 'Parking', 'RoomType_Room_Type 2', 'RepeatedGuest', 'RoomType_Room_Type 6', 'NumPreviousNonCancelled', 'MarketSegment_Aviation', 'NumWeekendNights', 'RoomType_Room_Type 4', 'MarketSegment_Online', 'RoomType_Room_Type 1', 'NumChildren', 'AvgRoomPrice', 'NumAdults', 'LeadTime', 'NumWeekNights', 'MarketSegment_Complementary', 'MarketSegment_Corporate', 'ArrivalDate', 'NumPrevCancellations', 'RoomType_Room_Type 3', 'RoomType_Room_Type 7', 'MealPlan_Not Selected', 'ArrivalMonth', 'ArrivalYear', 'SpecialRequests', 'BookingStatus'}\n",
      "Training data columns: {'MealPlan_Meal Plan 2', 'RoomType_Room_Type 5', 'MealPlan_Meal Plan 1', 'MarketSegment_Offline', 'Parking', 'RoomType_Room_Type 2', 'RepeatedGuest', 'RoomType_Room_Type 6', 'NumPreviousNonCancelled', 'MarketSegment_Aviation', 'NumWeekendNights', 'RoomType_Room_Type 4', 'MarketSegment_Online', 'RoomType_Room_Type 1', 'NumChildren', 'AvgRoomPrice', 'NumAdults', 'LeadTime', 'NumWeekNights', 'MarketSegment_Complementary', 'MarketSegment_Corporate', 'ArrivalDate', 'NumPrevCancellations', 'RoomType_Room_Type 3', 'RoomType_Room_Type 7', 'MealPlan_Not Selected', 'ArrivalMonth', 'ArrivalYear', 'SpecialRequests', 'BookingStatus'}\n"
     ]
    }
   ],
   "source": [
    "# Check if the input data and the training data have the same columns\n",
    "print(\"Input data columns:\", set(input_data.columns))\n",
    "print(\"Training data columns:\", set(train_data.columns))"
   ]
  },
  {
   "cell_type": "code",
   "execution_count": 18,
   "metadata": {},
   "outputs": [
    {
     "ename": "ValueError",
     "evalue": "Feature shape mismatch, expected: 29, got 30",
     "output_type": "error",
     "traceback": [
      "\u001b[1;31m---------------------------------------------------------------------------\u001b[0m",
      "\u001b[1;31mValueError\u001b[0m                                Traceback (most recent call last)",
      "\u001b[1;32m~\\AppData\\Local\\Temp\\ipykernel_26036\\483992308.py\u001b[0m in \u001b[0;36m<module>\u001b[1;34m\u001b[0m\n\u001b[0;32m      1\u001b[0m \u001b[1;31m# Make predictions on the input data\u001b[0m\u001b[1;33m\u001b[0m\u001b[1;33m\u001b[0m\u001b[0m\n\u001b[0;32m      2\u001b[0m \u001b[1;31m# input_data.drop(['BookingStatus'], axis=1)\u001b[0m\u001b[1;33m\u001b[0m\u001b[1;33m\u001b[0m\u001b[0m\n\u001b[1;32m----> 3\u001b[1;33m \u001b[0mpredictions\u001b[0m \u001b[1;33m=\u001b[0m \u001b[0mxgb_model\u001b[0m\u001b[1;33m.\u001b[0m\u001b[0mpredict\u001b[0m\u001b[1;33m(\u001b[0m\u001b[0minput_data\u001b[0m\u001b[1;33m)\u001b[0m\u001b[1;33m\u001b[0m\u001b[1;33m\u001b[0m\u001b[0m\n\u001b[0m\u001b[0;32m      4\u001b[0m \u001b[1;33m\u001b[0m\u001b[0m\n\u001b[0;32m      5\u001b[0m \u001b[1;31m# Convert the predictions to a dataframe\u001b[0m\u001b[1;33m\u001b[0m\u001b[1;33m\u001b[0m\u001b[0m\n",
      "\u001b[1;32mc:\\Users\\aarav\\anaconda3\\lib\\site-packages\\xgboost\\sklearn.py\u001b[0m in \u001b[0;36mpredict\u001b[1;34m(self, X, output_margin, ntree_limit, validate_features, base_margin, iteration_range)\u001b[0m\n\u001b[0;32m   1523\u001b[0m     ) -> np.ndarray:\n\u001b[0;32m   1524\u001b[0m         \u001b[1;32mwith\u001b[0m \u001b[0mconfig_context\u001b[0m\u001b[1;33m(\u001b[0m\u001b[0mverbosity\u001b[0m\u001b[1;33m=\u001b[0m\u001b[0mself\u001b[0m\u001b[1;33m.\u001b[0m\u001b[0mverbosity\u001b[0m\u001b[1;33m)\u001b[0m\u001b[1;33m:\u001b[0m\u001b[1;33m\u001b[0m\u001b[1;33m\u001b[0m\u001b[0m\n\u001b[1;32m-> 1525\u001b[1;33m             class_probs = super().predict(\n\u001b[0m\u001b[0;32m   1526\u001b[0m                 \u001b[0mX\u001b[0m\u001b[1;33m=\u001b[0m\u001b[0mX\u001b[0m\u001b[1;33m,\u001b[0m\u001b[1;33m\u001b[0m\u001b[1;33m\u001b[0m\u001b[0m\n\u001b[0;32m   1527\u001b[0m                 \u001b[0moutput_margin\u001b[0m\u001b[1;33m=\u001b[0m\u001b[0moutput_margin\u001b[0m\u001b[1;33m,\u001b[0m\u001b[1;33m\u001b[0m\u001b[1;33m\u001b[0m\u001b[0m\n",
      "\u001b[1;32mc:\\Users\\aarav\\anaconda3\\lib\\site-packages\\xgboost\\sklearn.py\u001b[0m in \u001b[0;36mpredict\u001b[1;34m(self, X, output_margin, ntree_limit, validate_features, base_margin, iteration_range)\u001b[0m\n\u001b[0;32m   1112\u001b[0m             \u001b[1;32mif\u001b[0m \u001b[0mself\u001b[0m\u001b[1;33m.\u001b[0m\u001b[0m_can_use_inplace_predict\u001b[0m\u001b[1;33m(\u001b[0m\u001b[1;33m)\u001b[0m\u001b[1;33m:\u001b[0m\u001b[1;33m\u001b[0m\u001b[1;33m\u001b[0m\u001b[0m\n\u001b[0;32m   1113\u001b[0m                 \u001b[1;32mtry\u001b[0m\u001b[1;33m:\u001b[0m\u001b[1;33m\u001b[0m\u001b[1;33m\u001b[0m\u001b[0m\n\u001b[1;32m-> 1114\u001b[1;33m                     predts = self.get_booster().inplace_predict(\n\u001b[0m\u001b[0;32m   1115\u001b[0m                         \u001b[0mdata\u001b[0m\u001b[1;33m=\u001b[0m\u001b[0mX\u001b[0m\u001b[1;33m,\u001b[0m\u001b[1;33m\u001b[0m\u001b[1;33m\u001b[0m\u001b[0m\n\u001b[0;32m   1116\u001b[0m                         \u001b[0miteration_range\u001b[0m\u001b[1;33m=\u001b[0m\u001b[0miteration_range\u001b[0m\u001b[1;33m,\u001b[0m\u001b[1;33m\u001b[0m\u001b[1;33m\u001b[0m\u001b[0m\n",
      "\u001b[1;32mc:\\Users\\aarav\\anaconda3\\lib\\site-packages\\xgboost\\core.py\u001b[0m in \u001b[0;36minplace_predict\u001b[1;34m(self, data, iteration_range, predict_type, missing, validate_features, base_margin, strict_shape)\u001b[0m\n\u001b[0;32m   2267\u001b[0m                 )\n\u001b[0;32m   2268\u001b[0m             \u001b[1;32mif\u001b[0m \u001b[0mlen\u001b[0m\u001b[1;33m(\u001b[0m\u001b[0mdata\u001b[0m\u001b[1;33m.\u001b[0m\u001b[0mshape\u001b[0m\u001b[1;33m)\u001b[0m \u001b[1;33m!=\u001b[0m \u001b[1;36m1\u001b[0m \u001b[1;32mand\u001b[0m \u001b[0mself\u001b[0m\u001b[1;33m.\u001b[0m\u001b[0mnum_features\u001b[0m\u001b[1;33m(\u001b[0m\u001b[1;33m)\u001b[0m \u001b[1;33m!=\u001b[0m \u001b[0mdata\u001b[0m\u001b[1;33m.\u001b[0m\u001b[0mshape\u001b[0m\u001b[1;33m[\u001b[0m\u001b[1;36m1\u001b[0m\u001b[1;33m]\u001b[0m\u001b[1;33m:\u001b[0m\u001b[1;33m\u001b[0m\u001b[1;33m\u001b[0m\u001b[0m\n\u001b[1;32m-> 2269\u001b[1;33m                 raise ValueError(\n\u001b[0m\u001b[0;32m   2270\u001b[0m                     \u001b[1;34mf\"Feature shape mismatch, expected: {self.num_features()}, \"\u001b[0m\u001b[1;33m\u001b[0m\u001b[1;33m\u001b[0m\u001b[0m\n\u001b[0;32m   2271\u001b[0m                     \u001b[1;34mf\"got {data.shape[1]}\"\u001b[0m\u001b[1;33m\u001b[0m\u001b[1;33m\u001b[0m\u001b[0m\n",
      "\u001b[1;31mValueError\u001b[0m: Feature shape mismatch, expected: 29, got 30"
     ]
    }
   ],
   "source": [
    "\n",
    "# Make predictions on the input data\n",
    "input_data = input_data.drop(['BookingStatus'], axis=1)\n",
    "predictions = xgb_model.predict(input_data)\n",
    "\n",
    "# Convert the predictions to a dataframe\n",
    "predictions_df = pd.DataFrame(predictions)"
   ]
  }
 ],
 "metadata": {
  "kernelspec": {
   "display_name": "Python 3",
   "language": "python",
   "name": "python3"
  },
  "language_info": {
   "codemirror_mode": {
    "name": "ipython",
    "version": 3
   },
   "file_extension": ".py",
   "mimetype": "text/x-python",
   "name": "python",
   "nbconvert_exporter": "python",
   "pygments_lexer": "ipython3",
   "version": "3.9.13"
  },
  "orig_nbformat": 4
 },
 "nbformat": 4,
 "nbformat_minor": 2
}
